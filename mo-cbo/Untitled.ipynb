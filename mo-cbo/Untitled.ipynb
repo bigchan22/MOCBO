{
 "cells": [
  {
   "cell_type": "code",
   "execution_count": 3,
   "id": "12328ae5-be11-44f4-8b9a-48678d2cb913",
   "metadata": {},
   "outputs": [],
   "source": [
    "import numpy as np\n",
    "def simplex_proj_rows(X, b=1.0):\n",
    "    \"\"\"\n",
    "    각 행을 유클리드 심플렉스 { y >= 0, sum(y)=b }에 사영.\n",
    "    Wang & Carreira-Perpiñán(2013) 알고리즘을 행 단위로 벡터화.\n",
    "\n",
    "    Args:\n",
    "        X (array_like): (N, d) 입력 행렬\n",
    "        b (float): 심플렉스 반지름(기본 1.0, 양수)\n",
    "    Returns:\n",
    "        np.ndarray: (N, d) 사영 결과\n",
    "    \"\"\"\n",
    "    X = np.asarray(X, dtype=float)\n",
    "    if b <= 0:\n",
    "        raise ValueError(\"b must be positive\")\n",
    "    N, d = X.shape\n",
    "    if d == 0 or N == 0:\n",
    "        return X.copy()\n",
    "\n",
    "    # 1) 각 행을 내림차순 정렬\n",
    "    U = np.sort(X, axis=1)[:, ::-1]         # (N, d)\n",
    "    CSSV = np.cumsum(U, axis=1)             # (N, d)\n",
    "    j = np.arange(1, d + 1)[None, :]        # (1, d)\n",
    "\n",
    "    # 2) cond: u_j - (cssv_j - b)/(j) > 0  (여기서 j는 1..d)\n",
    "    cond = U - (CSSV - b) / j > 0           # (N, d), True..True, False..False의 단조 패턴\n",
    "    # 3) rho = 마지막으로 True인 위치\n",
    "    #    cond가 단조이므로 True의 개수 - 1 이 마지막 True의 인덱스\n",
    "    rho = cond.sum(axis=1) - 1              # (N,)\n",
    "\n",
    "    # 4) theta = (sum_{i<=rho} u_i - b) / (rho + 1)\n",
    "    rows = np.arange(N)\n",
    "    theta = (CSSV[rows, rho] - b) / (rho + 1)  # (N,)\n",
    "\n",
    "    # 5) y = max(x - theta, 0)\n",
    "    Y = np.maximum(X - theta[:, None], 0.0)\n",
    "    return Y\n"
   ]
  },
  {
   "cell_type": "code",
   "execution_count": 4,
   "id": "2973fca6-47fd-4961-b423-102c46e93249",
   "metadata": {},
   "outputs": [
    {
     "name": "stdout",
     "output_type": "stream",
     "text": [
      "[[0.         0.         1.        ]\n",
      " [0.5        0.5        0.        ]\n",
      " [0.33333333 0.33333333 0.33333333]]\n",
      "[1. 1. 1.]\n",
      "True\n"
     ]
    }
   ],
   "source": [
    "X = np.array([[0.2, -0.3, 2.0],\n",
    "              [1.5, 1.5, -10.0],\n",
    "              [-1.0, -1.0, -1.0]])\n",
    "Y = simplex_proj_rows(X, b=1.0)\n",
    "print(Y)\n",
    "print(Y.sum(axis=1))     # 각 행이 1이어야 함\n",
    "print((Y >= 0).all())    # 모든 성분 비음수"
   ]
  }
 ],
 "metadata": {
  "kernelspec": {
   "display_name": "Python 3 (ipykernel)",
   "language": "python",
   "name": "python3"
  },
  "language_info": {
   "codemirror_mode": {
    "name": "ipython",
    "version": 3
   },
   "file_extension": ".py",
   "mimetype": "text/x-python",
   "name": "python",
   "nbconvert_exporter": "python",
   "pygments_lexer": "ipython3",
   "version": "3.12.2"
  }
 },
 "nbformat": 4,
 "nbformat_minor": 5
}
