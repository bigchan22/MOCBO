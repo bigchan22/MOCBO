{
 "cells": [
  {
   "cell_type": "code",
   "execution_count": 1,
   "id": "3bed4c4c-0168-4902-8e3c-8dba8dcbe008",
   "metadata": {},
   "outputs": [],
   "source": [
    "import numpy as np\n",
    "import pandas as pd\n",
    "import matplotlib.pyplot as plt\n",
    "import yaml\n",
    "from pathlib import Path\n",
    "from src.L_functions import get_vol, get_neg_sharpe, rast\n",
    "from src.Models import Multi_CBO_model, gen_Psi,CBO_model\n",
    "from src.utils import Lmin, avg_x, avg_L, load_config, next_run_index, save_run_config\n",
    "import random\n",
    "import os\n",
    "import sys\n",
    "from tqdm import trange  # pip install tqdm"
   ]
  },
  {
   "cell_type": "code",
   "execution_count": 2,
   "id": "cc39eceb-8084-4fb1-bad3-e66e2fbe243d",
   "metadata": {},
   "outputs": [],
   "source": [
    "def has_converged_all_coords_equal(X: np.ndarray, tol: float = 1e-6) -> bool:\n",
    "    \"\"\"\n",
    "    X: (N, D) 파티클 행렬\n",
    "    tol: 좌표별 허용 오차. max-min <= tol 이면 같은 값으로 간주.\n",
    "    \"\"\"\n",
    "    # np.ptp = max - min, axis=0 → 각 좌표(l)별 범위\n",
    "    return np.all(np.ptp(X, axis=0) <= tol)"
   ]
  },
  {
   "cell_type": "code",
   "execution_count": 3,
   "id": "32eba467-326f-4638-9496-802290210434",
   "metadata": {
    "scrolled": true
   },
   "outputs": [
    {
     "name": "stdout",
     "output_type": "stream",
     "text": [
      "0\n",
      "93\n",
      "93\n",
      "93\n",
      "93\n",
      "93\n",
      "93\n",
      "93\n",
      "93\n",
      "93\n",
      "93\n",
      "93\n",
      "93\n",
      "93\n",
      "93\n",
      "93\n",
      "93\n",
      "93\n",
      "93\n",
      "93\n",
      "93\n",
      "93\n",
      "93\n",
      "93\n",
      "93\n",
      "93\n",
      "93\n",
      "93\n",
      "93\n",
      "93\n",
      "93\n",
      "93\n",
      "93\n",
      "93\n",
      "93\n",
      "93\n",
      "93\n",
      "93\n",
      "93\n",
      "93\n",
      "93\n",
      "93\n",
      "93\n",
      "93\n",
      "93\n",
      "93\n",
      "93\n",
      "93\n",
      "93\n",
      "93\n",
      "93\n",
      "0\n",
      "93\n",
      "93\n",
      "93\n",
      "93\n",
      "93\n",
      "93\n",
      "93\n",
      "93\n",
      "93\n",
      "93\n",
      "93\n",
      "93\n",
      "93\n",
      "93\n",
      "93\n",
      "93\n",
      "93\n",
      "93\n",
      "93\n",
      "93\n",
      "93\n",
      "93\n",
      "93\n",
      "93\n",
      "93\n",
      "93\n",
      "93\n",
      "93\n",
      "93\n",
      "93\n",
      "93\n",
      "93\n",
      "93\n",
      "93\n",
      "93\n",
      "93\n",
      "93\n",
      "93\n",
      "93\n",
      "93\n",
      "93\n",
      "93\n",
      "93\n",
      "93\n",
      "93\n",
      "93\n",
      "93\n",
      "93\n",
      "93\n",
      "93\n",
      "0\n",
      "93\n",
      "93\n",
      "93\n",
      "93\n",
      "93\n",
      "93\n",
      "93\n",
      "93\n",
      "93\n",
      "93\n",
      "93\n",
      "93\n",
      "93\n",
      "93\n",
      "93\n",
      "93\n",
      "93\n",
      "93\n",
      "93\n",
      "93\n",
      "93\n",
      "93\n",
      "93\n",
      "93\n",
      "93\n",
      "93\n",
      "93\n",
      "93\n",
      "93\n",
      "93\n",
      "93\n",
      "93\n",
      "93\n",
      "93\n",
      "93\n",
      "93\n",
      "93\n",
      "93\n",
      "93\n",
      "93\n",
      "93\n",
      "93\n",
      "93\n",
      "93\n",
      "93\n",
      "93\n",
      "93\n",
      "93\n",
      "93\n",
      "93\n",
      "0\n",
      "93\n",
      "93\n",
      "93\n",
      "93\n",
      "93\n",
      "93\n",
      "93\n",
      "93\n",
      "93\n",
      "93\n",
      "93\n",
      "93\n",
      "93\n",
      "93\n",
      "93\n",
      "93\n",
      "93\n",
      "93\n",
      "93\n",
      "93\n",
      "93\n",
      "93\n",
      "93\n",
      "93\n",
      "93\n",
      "93\n",
      "93\n",
      "93\n",
      "93\n",
      "93\n",
      "93\n",
      "93\n",
      "93\n",
      "93\n",
      "93\n",
      "93\n",
      "93\n",
      "93\n",
      "93\n",
      "93\n",
      "93\n",
      "93\n",
      "93\n",
      "93\n",
      "93\n",
      "93\n",
      "93\n",
      "93\n",
      "93\n",
      "93\n",
      "0\n",
      "93\n",
      "93\n",
      "93\n",
      "93\n",
      "93\n",
      "93\n",
      "93\n",
      "93\n",
      "93\n",
      "93\n",
      "93\n",
      "93\n",
      "93\n",
      "93\n",
      "93\n",
      "93\n",
      "93\n",
      "93\n",
      "93\n",
      "93\n",
      "93\n",
      "93\n",
      "93\n",
      "93\n",
      "93\n",
      "93\n",
      "93\n",
      "93\n",
      "93\n",
      "93\n",
      "93\n",
      "93\n",
      "93\n",
      "93\n",
      "93\n",
      "93\n",
      "93\n",
      "93\n",
      "93\n",
      "93\n",
      "93\n",
      "93\n",
      "93\n",
      "93\n",
      "93\n",
      "93\n",
      "93\n",
      "93\n",
      "93\n",
      "93\n"
     ]
    }
   ],
   "source": [
    "RESULTS_ROOT = Path(\"./results\")\n",
    "SIMNAME_SUB  = \"250901RAST_Lam1\"\n",
    "\n",
    "\n",
    "# ---- 메인 ----\n",
    "# np.random.seed(1)\n",
    "base_cfg   = load_config(\"configs/configRAST.yaml\")\n",
    "config = dict(base_cfg)\n",
    "# x0 = 2 * np.random.rand(config['nump'], config['D']) + 2\n",
    "# np.save( \"x0.npy\", x0)\n",
    "# x0 = np.load(\"x0.npy\")\n",
    "\n",
    "lam1 = 0 \n",
    "sigma = 0 \n",
    "for lam1 in [0, 1, 2,3,4]:\n",
    "    print(sigma)\n",
    "    run_idx  = next_run_index(RESULTS_ROOT, SIMNAME_SUB)\n",
    "    run_name = f\"{SIMNAME_SUB}_{run_idx}\"\n",
    "    run_root = RESULTS_ROOT / run_name           # 상위 simname 폴더 (여기 아래에 sim0000 ... 생성)\n",
    "    run_root.mkdir(parents=True, exist_ok=True)\n",
    "\n",
    "    # 원본 yaml 직접 덮지 말고 메모리에서 수정\n",
    "    config = dict(base_cfg)\n",
    "    config[\"sigma\"]    = sigma\n",
    "    config[\"simname\"] = run_name\n",
    "    config[\"lam1\"] = lam1\n",
    "    save_run_config(run_root, config)\n",
    "\n",
    "    # 문제 정의\n",
    "\n",
    "    L = rast\n",
    "\n",
    "\n",
    "\n",
    "    # 공용 초기값 (원하면 실험별 동일 초기값)\n",
    "    # x0 = 2 * np.random.rand(config['nump'], config['D']) + 2\n",
    "    # np.save(run_root / \"x0.npy\", x0)\n",
    "\n",
    "    nsim    = int(config['sim'])\n",
    "    maxiter = int(config.get('maxiter', 1000))\n",
    "\n",
    "    # 진행률: 바깥 루프(시뮬레이션 개수)\n",
    "    for simnum in range(nsim):\n",
    "        # 개별 sim 폴더 생성 ...\n",
    "        sim_dir  = run_root / f\"sim{simnum:04d}\"\n",
    "        figs_dir = sim_dir / \"figs\"\n",
    "        figs_dir.mkdir(parents=True, exist_ok=True)\n",
    "    \n",
    "        model = CBO_model(L, config)\n",
    "        model.path = str(sim_dir.resolve()) + \"/\"\n",
    "        model.make_path()\n",
    "    \n",
    "        # x = np.load( \"x0.npy\")\n",
    "        x = 2 * np.random.rand(config['nump'], config['D']) + 2\n",
    "        E = np.zeros(maxiter, dtype=float)\n",
    "    \n",
    "        for it in range(maxiter):\n",
    "    \n",
    "            if config.get('model', 1) == 1:\n",
    "                x = model.step(x, L)\n",
    "            else:\n",
    "                raise NotImplementedError(\"model!=1 분기 사용 시 다른 모델 지정 필요\")\n",
    "    \n",
    "            model.trace_func(x, lambda z: z, \"coord\")\n",
    "            model.trace_func(x, lambda x: model.best_loss(x, L), \"best_L\")\n",
    "            # --- 진행률 (print 버전) ---\n",
    "            # if (it + 1) % 50 == 0 or it == maxiter - 1:\n",
    "            #     pct = (simnum * maxiter + it + 1) / (nsim * maxiter) * 100\n",
    "            #     print(f\"\\rProgress: {pct:.1f}%\", end=\"\")\n",
    "            if has_converged_all_coords_equal(x,1e-4):\n",
    "\n",
    "                break\n",
    "        # 시뮬레이션 종료 후 개행\n",
    "        print(it)\n",
    "        model.save_func(\"coord\", simnum=simnum)\n",
    "        model.save_func(\"best_L\", simnum=simnum)\n",
    "        # eps = 1e-12\n",
    "        # plt.figure()\n",
    "        # plt.plot(np.arange(maxiter), E + eps, label='E_n')\n",
    "        # plt.yscale('log')\n",
    "        # plt.title(f'sim{simnum:04d}')\n",
    "        # plt.xlabel('iter')\n",
    "        # plt.ylabel('energy')\n",
    "        # plt.legend()\n",
    "        # plt.savefig(figs_dir / \"energy.png\", dpi=150, bbox_inches=\"tight\")\n",
    "        # plt.close()\n"
   ]
  },
  {
   "cell_type": "code",
   "execution_count": 4,
   "id": "3055bf1f-44f2-471b-9f8a-d55a367ecb93",
   "metadata": {},
   "outputs": [
    {
     "name": "stdout",
     "output_type": "stream",
     "text": [
      "best_L mean[-10:]: [10.43223304 10.43231661 10.43239214 10.43246036 10.43252197 10.43257759\n",
      " 10.43262777 10.43267305 10.43271389 10.43275072]\n",
      "coord mean shape: (94, 15)\n"
     ]
    }
   ],
   "source": [
    "from src.trace_stats import summarize_scalar_trace, summarize_coord_trace, save_stats_json\n",
    "\n",
    "run_root = \"results/250901RAST_Lam1_0\"   # 본인 실험 폴더\n",
    "\n",
    "# 1) best_L (스칼라) 통계\n",
    "bestL_stats = summarize_scalar_trace(run_root, funcname=\"best_L\")\n",
    "print(\"best_L mean[-10:]:\", bestL_stats[\"mean\"][-10:])\n",
    "save_stats_json(bestL_stats, f\"{run_root}/stats/best_L_stats.json\")\n",
    "\n",
    "# 2) coord (N,D) 통계\n",
    "coord_stats = summarize_coord_trace(run_root, funcname=\"coord\",\n",
    "                                    reduce_over=\"particles_and_sims\")\n",
    "print(\"coord mean shape:\", coord_stats[\"mean\"].shape)  # (T, D)\n",
    "save_stats_json(coord_stats, f\"{run_root}/stats/coord_stats.json\")"
   ]
  },
  {
   "cell_type": "code",
   "execution_count": 5,
   "id": "33b3823f-8ce0-40d4-9d95-21ac315d3ac6",
   "metadata": {},
   "outputs": [
    {
     "data": {
      "text/plain": [
       "10.432750720783826"
      ]
     },
     "execution_count": 5,
     "metadata": {},
     "output_type": "execute_result"
    }
   ],
   "source": [
    "run_root = \"results/250901RAST_Lam1_0\"   # 본인 실험 폴더\n",
    "\n",
    "# 1) best_L (스칼라) 통계\n",
    "bestL_statsL0 = summarize_scalar_trace(run_root, funcname=\"best_L\")\n",
    "bestL_statsL0['mean'][-1]"
   ]
  },
  {
   "cell_type": "code",
   "execution_count": 6,
   "id": "7b720b8d-237b-4f25-9863-987ea7bb7cf7",
   "metadata": {},
   "outputs": [
    {
     "data": {
      "text/plain": [
       "9.039623754652965"
      ]
     },
     "execution_count": 6,
     "metadata": {},
     "output_type": "execute_result"
    }
   ],
   "source": [
    "run_root = \"results/250901RAST_Lam1_1\"   # 본인 실험 폴더\n",
    "\n",
    "# 1) best_L (스칼라) 통계\n",
    "bestL_statsL = summarize_scalar_trace(run_root, funcname=\"best_L\")\n",
    "bestL_statsL['mean'][-1]"
   ]
  },
  {
   "cell_type": "code",
   "execution_count": 7,
   "id": "0119f540-0d28-43eb-b607-bed381ee90c4",
   "metadata": {},
   "outputs": [
    {
     "data": {
      "text/plain": [
       "6.741802417979028"
      ]
     },
     "execution_count": 7,
     "metadata": {},
     "output_type": "execute_result"
    }
   ],
   "source": [
    "run_root = \"results/250901RAST_Lam1_2\"   # 본인 실험 폴더\n",
    "\n",
    "# 1) best_L (스칼라) 통계\n",
    "bestL_statsL = summarize_scalar_trace(run_root, funcname=\"best_L\")\n",
    "bestL_statsL['mean'][-1]"
   ]
  },
  {
   "cell_type": "code",
   "execution_count": 8,
   "id": "15a6d570-f1fe-4a0f-aee3-e54927df9c3e",
   "metadata": {},
   "outputs": [
    {
     "data": {
      "text/plain": [
       "6.483352066312364"
      ]
     },
     "execution_count": 8,
     "metadata": {},
     "output_type": "execute_result"
    }
   ],
   "source": [
    "run_root = \"results/250901RAST_Lam1_3\"   # 본인 실험 폴더\n",
    "\n",
    "# 1) best_L (스칼라) 통계\n",
    "bestL_statsL = summarize_scalar_trace(run_root, funcname=\"best_L\")\n",
    "bestL_statsL['mean'][-1]"
   ]
  },
  {
   "cell_type": "code",
   "execution_count": 9,
   "id": "dc91172d-3f48-46c0-a332-0f413129cc31",
   "metadata": {},
   "outputs": [
    {
     "data": {
      "text/plain": [
       "5.243400291688863"
      ]
     },
     "execution_count": 9,
     "metadata": {},
     "output_type": "execute_result"
    }
   ],
   "source": [
    "run_root = \"results/250901RAST_Lam1_4\"   # 본인 실험 폴더\n",
    "\n",
    "# 1) best_L (스칼라) 통계\n",
    "bestL_statsL = summarize_scalar_trace(run_root, funcname=\"best_L\")\n",
    "bestL_statsL['mean'][-1]"
   ]
  },
  {
   "cell_type": "code",
   "execution_count": 10,
   "id": "a97fbeda-90c5-4b64-add4-de98eba9ac12",
   "metadata": {},
   "outputs": [
    {
     "data": {
      "text/plain": [
       "10.432750720783826"
      ]
     },
     "execution_count": 10,
     "metadata": {},
     "output_type": "execute_result"
    }
   ],
   "source": [
    "run_root = \"results/250901RAST_Sigma_0\"   # 본인 실험 폴더\n",
    "\n",
    "# 1) best_L (스칼라) 통계\n",
    "bestL_statsL = summarize_scalar_trace(run_root, funcname=\"best_L\")\n",
    "bestL_statsL['mean'][-1]"
   ]
  },
  {
   "cell_type": "code",
   "execution_count": 11,
   "id": "c1126cef-455c-4726-9bb4-2a9451e643f1",
   "metadata": {},
   "outputs": [
    {
     "data": {
      "text/plain": [
       "8.584876958971192"
      ]
     },
     "execution_count": 11,
     "metadata": {},
     "output_type": "execute_result"
    }
   ],
   "source": [
    "run_root = \"results/250901RAST_Sigma_1\"   # 본인 실험 폴더\n",
    "\n",
    "# 1) best_L (스칼라) 통계\n",
    "bestL_statsL = summarize_scalar_trace(run_root, funcname=\"best_L\")\n",
    "bestL_statsL['mean'][-1]"
   ]
  },
  {
   "cell_type": "code",
   "execution_count": 12,
   "id": "8bfdea84-512b-4a3b-b3b2-9fe8f97067f5",
   "metadata": {},
   "outputs": [
    {
     "data": {
      "text/plain": [
       "3.0812389535403026"
      ]
     },
     "execution_count": 12,
     "metadata": {},
     "output_type": "execute_result"
    }
   ],
   "source": [
    "run_root = \"results/250901RAST_Sigma_2\"   # 본인 실험 폴더\n",
    "\n",
    "# 1) best_L (스칼라) 통계\n",
    "bestL_statsL = summarize_scalar_trace(run_root, funcname=\"best_L\")\n",
    "bestL_statsL['mean'][-1]"
   ]
  },
  {
   "cell_type": "code",
   "execution_count": 13,
   "id": "0aca8ab8-e6c3-4705-ab90-b58fedacf2d9",
   "metadata": {},
   "outputs": [
    {
     "data": {
      "text/plain": [
       "0.0007053082039030679"
      ]
     },
     "execution_count": 13,
     "metadata": {},
     "output_type": "execute_result"
    }
   ],
   "source": [
    "run_root = \"results/250901RAST_Sigma_3\"   # 본인 실험 폴더\n",
    "\n",
    "# 1) best_L (스칼라) 통계\n",
    "bestL_statsL = summarize_scalar_trace(run_root, funcname=\"best_L\")\n",
    "bestL_statsL['mean'][-1]"
   ]
  },
  {
   "cell_type": "code",
   "execution_count": 14,
   "id": "eeda346f-4ca9-4736-9ea6-3b68f0717e38",
   "metadata": {},
   "outputs": [
    {
     "data": {
      "text/plain": [
       "0.0007053082039030679"
      ]
     },
     "execution_count": 14,
     "metadata": {},
     "output_type": "execute_result"
    }
   ],
   "source": [
    "vrun_root = \"results/250901RAST_Sigma_4\"   # 본인 실험 폴더\n",
    "\n",
    "# 1) best_L (스칼라) 통계\n",
    "bestL_statsL = summarize_scalar_trace(run_root, funcname=\"best_L\")\n",
    "bestL_statsL['mean'][-1]"
   ]
  }
 ],
 "metadata": {
  "kernelspec": {
   "display_name": "Python 3 (ipykernel)",
   "language": "python",
   "name": "python3"
  },
  "language_info": {
   "codemirror_mode": {
    "name": "ipython",
    "version": 3
   },
   "file_extension": ".py",
   "mimetype": "text/x-python",
   "name": "python",
   "nbconvert_exporter": "python",
   "pygments_lexer": "ipython3",
   "version": "3.12.2"
  }
 },
 "nbformat": 4,
 "nbformat_minor": 5
}
