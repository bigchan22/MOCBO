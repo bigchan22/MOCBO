{
 "cells": [
  {
   "cell_type": "code",
   "execution_count": 88,
   "id": "3bed4c4c-0168-4902-8e3c-8dba8dcbe008",
   "metadata": {},
   "outputs": [],
   "source": [
    "import numpy as np\n",
    "import pandas as pd\n",
    "import matplotlib.pyplot as plt\n",
    "import yaml\n",
    "from pathlib import Path\n",
    "from src.L_functions import get_vol, get_neg_sharpe, rast\n",
    "from src.Models import Multi_CBO_model, gen_Psi,CBO_model\n",
    "from src.utils import Lmin, avg_x, avg_L, load_config, next_run_index, save_run_config\n",
    "import random\n",
    "import os\n",
    "import sys\n",
    "from tqdm import trange  # pip install tqdm"
   ]
  },
  {
   "cell_type": "code",
   "execution_count": 89,
   "id": "cc39eceb-8084-4fb1-bad3-e66e2fbe243d",
   "metadata": {},
   "outputs": [],
   "source": [
    "def has_converged_all_coords_equal(X: np.ndarray, tol: float = 1e-6) -> bool:\n",
    "    \"\"\"\n",
    "    X: (N, D) 파티클 행렬\n",
    "    tol: 좌표별 허용 오차. max-min <= tol 이면 같은 값으로 간주.\n",
    "    \"\"\"\n",
    "    # np.ptp = max - min, axis=0 → 각 좌표(l)별 범위\n",
    "    return np.all(np.ptp(X, axis=0) <= tol)"
   ]
  },
  {
   "cell_type": "code",
   "execution_count": 90,
   "id": "32eba467-326f-4638-9496-802290210434",
   "metadata": {
    "scrolled": true
   },
   "outputs": [
    {
     "name": "stdout",
     "output_type": "stream",
     "text": [
      "0 0\n",
      "simnum= 30 x[0,0]= 3.28828707213667\n",
      "1 0\n",
      "simnum= 30 x[0,0]= 3.28828707213667\n",
      "2 0\n",
      "simnum= 30 x[0,0]= 3.28828707213667\n",
      "3 0\n",
      "simnum= 30 x[0,0]= 3.28828707213667\n",
      "4 0\n",
      "simnum= 30 x[0,0]= 3.28828707213667\n",
      "5 0\n",
      "simnum= 30 x[0,0]= 3.28828707213667\n"
     ]
    }
   ],
   "source": [
    "RESULTS_ROOT = Path(\"./results\")\n",
    "SIMNAME_SUB  = \"250902RAST_Sigma\"\n",
    "\n",
    "\n",
    "# ---- 메인 ----\n",
    "# np.random.seed(1)\n",
    "base_cfg   = load_config(\"configs/configRAST.yaml\")\n",
    "config = dict(base_cfg)\n",
    "# x0 = 2 * np.random.rand(config['nump'], config['D']) + 2\n",
    "# np.save( \"x0.npy\", x0)\n",
    "# x0 = np.load(\"x0.npy\")\n",
    "\n",
    "lam1 = 0 \n",
    "sigma = 0 \n",
    "for sigma in [0,1,2,3,4,5]:\n",
    "    print(sigma,lam1)\n",
    "    run_idx  = next_run_index(RESULTS_ROOT, SIMNAME_SUB)\n",
    "    run_name = f\"{SIMNAME_SUB}_{run_idx}\"\n",
    "    run_root = RESULTS_ROOT / run_name           # 상위 simname 폴더 (여기 아래에 sim0000 ... 생성)\n",
    "    run_root.mkdir(parents=True, exist_ok=True)\n",
    "\n",
    "    # 원본 yaml 직접 덮지 말고 메모리에서 수정\n",
    "    config = dict(base_cfg)\n",
    "    config[\"sigma\"]    = sigma\n",
    "    config[\"simname\"] = run_name\n",
    "    config[\"lam1\"] = lam1\n",
    "    save_run_config(run_root, config)\n",
    "\n",
    "    # 문제 정의\n",
    "\n",
    "    L = rast\n",
    "\n",
    "\n",
    "\n",
    "    # 공용 초기값 (원하면 실험별 동일 초기값)\n",
    "    # x0 = 2 * np.random.rand(config['nump'], config['D']) + 2\n",
    "    # np.save(run_root / \"x0.npy\", x0)\n",
    "\n",
    "    nsim    = int(config['sim'])\n",
    "    maxiter = int(config.get('maxiter', 1000))\n",
    "\n",
    "    # 진행률: 바깥 루프(시뮬레이션 개수)\n",
    "    for simnum in range(nsim):\n",
    "        # 개별 sim 폴더 생성 ...\n",
    "        sim_dir  = run_root / f\"sim{simnum:04d}\"\n",
    "        figs_dir = sim_dir / \"figs\"\n",
    "        figs_dir.mkdir(parents=True, exist_ok=True)\n",
    "    \n",
    "        model = CBO_model(L, config)\n",
    "        model.path = str(sim_dir.resolve()) + \"/\"\n",
    "        model.make_path()\n",
    "    \n",
    "        # x = np.load( \"x0.npy\")\n",
    "        np.random.seed(simnum)\n",
    "        x = 2 * np.random.rand(config['nump'], config['D']) + 2\n",
    "        if simnum==30:\n",
    "            print('simnum=', simnum, 'x[0,0]=', x[0,0], flush=True)\n",
    "        E = np.zeros(maxiter, dtype=float)\n",
    "    \n",
    "        for it in range(maxiter):\n",
    "    \n",
    "            if config.get('model', 1) == 1:\n",
    "                x = model.step(x, L)\n",
    "            else:\n",
    "                raise NotImplementedError(\"model!=1 분기 사용 시 다른 모델 지정 필요\")\n",
    "    \n",
    "            model.trace_func(x, lambda z: z, \"coord\")\n",
    "            model.trace_func(x, lambda x: model.best_loss(x, L), \"best_L\")\n",
    "            # --- 진행률 (print 버전) ---\n",
    "            # if (it + 1) % 50 == 0 or it == maxiter - 1:\n",
    "            #     pct = (simnum * maxiter + it + 1) / (nsim * maxiter) * 100\n",
    "            #     print(f\"\\rProgress: {pct:.1f}%\", end=\"\")\n",
    "            if has_converged_all_coords_equal(x,1e-4):\n",
    "\n",
    "                break\n",
    "        # 시뮬레이션 종료 후 개행\n",
    "        # print(it)\n",
    "        model.save_func(\"coord\", simnum=simnum)\n",
    "        model.save_func(\"best_L\", simnum=simnum)\n",
    "        # eps = 1e-12\n",
    "        # plt.figure()\n",
    "        # plt.plot(np.arange(maxiter), E + eps, label='E_n')\n",
    "        # plt.yscale('log')\n",
    "        # plt.title(f'sim{simnum:04d}')\n",
    "        # plt.xlabel('iter')\n",
    "        # plt.ylabel('energy')\n",
    "        # plt.legend()\n",
    "        # plt.savefig(figs_dir / \"energy.png\", dpi=150, bbox_inches=\"tight\")\n",
    "        # plt.close()\n"
   ]
  },
  {
   "cell_type": "code",
   "execution_count": 91,
   "id": "4e6aa975-b350-48a9-b5a5-4766c2685504",
   "metadata": {},
   "outputs": [
    {
     "name": "stdout",
     "output_type": "stream",
     "text": [
      "0 0\n",
      "simnum= 30 x[0,0]= 3.28828707213667\n",
      "0 1\n",
      "simnum= 30 x[0,0]= 3.28828707213667\n",
      "0 2\n",
      "simnum= 30 x[0,0]= 3.28828707213667\n",
      "0 3\n",
      "simnum= 30 x[0,0]= 3.28828707213667\n",
      "0 4\n",
      "simnum= 30 x[0,0]= 3.28828707213667\n",
      "0 5\n",
      "simnum= 30 x[0,0]= 3.28828707213667\n",
      "0 6\n",
      "simnum= 30 x[0,0]= 3.28828707213667\n",
      "0 7\n",
      "simnum= 30 x[0,0]= 3.28828707213667\n",
      "0 8\n",
      "simnum= 30 x[0,0]= 3.28828707213667\n",
      "0 9\n",
      "simnum= 30 x[0,0]= 3.28828707213667\n",
      "0 10\n",
      "simnum= 30 x[0,0]= 3.28828707213667\n"
     ]
    }
   ],
   "source": [
    "RESULTS_ROOT = Path(\"./results\")\n",
    "SIMNAME_SUB  = \"250902RAST_Lam1\"\n",
    "\n",
    "\n",
    "# ---- 메인 ----\n",
    "# np.random.seed(1)\n",
    "base_cfg   = load_config(\"configs/configRAST.yaml\")\n",
    "config = dict(base_cfg)\n",
    "# x0 = 2 * np.random.rand(config['nump'], config['D']) + 2\n",
    "# np.save( \"x0.npy\", x0)\n",
    "# x0 = np.load(\"x0.npy\")\n",
    "\n",
    "lam1 = 0 \n",
    "sigma = 0 \n",
    "for lam1 in [0,1,2,3,4,5,6,7,8,9,10]:\n",
    "    print(sigma,lam1)\n",
    "    run_idx  = next_run_index(RESULTS_ROOT, SIMNAME_SUB)\n",
    "    run_name = f\"{SIMNAME_SUB}_{run_idx}\"\n",
    "    run_root = RESULTS_ROOT / run_name           # 상위 simname 폴더 (여기 아래에 sim0000 ... 생성)\n",
    "    run_root.mkdir(parents=True, exist_ok=True)\n",
    "\n",
    "    # 원본 yaml 직접 덮지 말고 메모리에서 수정\n",
    "    config = dict(base_cfg)\n",
    "    config[\"sigma\"]    = sigma\n",
    "    config[\"simname\"] = run_name\n",
    "    config[\"lam1\"] = lam1\n",
    "    save_run_config(run_root, config)\n",
    "\n",
    "    # 문제 정의\n",
    "\n",
    "    L = rast\n",
    "\n",
    "\n",
    "\n",
    "    # 공용 초기값 (원하면 실험별 동일 초기값)\n",
    "    # x0 = 2 * np.random.rand(config['nump'], config['D']) + 2\n",
    "    # np.save(run_root / \"x0.npy\", x0)\n",
    "\n",
    "    nsim    = int(config['sim'])\n",
    "    maxiter = int(config.get('maxiter', 1000))\n",
    "\n",
    "    # 진행률: 바깥 루프(시뮬레이션 개수)\n",
    "    for simnum in range(nsim):\n",
    "        # 개별 sim 폴더 생성 ...\n",
    "        sim_dir  = run_root / f\"sim{simnum:04d}\"\n",
    "        figs_dir = sim_dir / \"figs\"\n",
    "        figs_dir.mkdir(parents=True, exist_ok=True)\n",
    "    \n",
    "        model = CBO_model(L, config)\n",
    "        model.path = str(sim_dir.resolve()) + \"/\"\n",
    "        model.make_path()\n",
    "    \n",
    "        # x = np.load( \"x0.npy\")\n",
    "        np.random.seed(simnum)\n",
    "        x = 2 * np.random.rand(config['nump'], config['D']) + 2\n",
    "        if simnum==30:\n",
    "            print('simnum=', simnum, 'x[0,0]=', x[0,0], flush=True)\n",
    "        E = np.zeros(maxiter, dtype=float)\n",
    "    \n",
    "        for it in range(maxiter):\n",
    "    \n",
    "            if config.get('model', 1) == 1:\n",
    "                x = model.step(x, L)\n",
    "            else:\n",
    "                raise NotImplementedError(\"model!=1 분기 사용 시 다른 모델 지정 필요\")\n",
    "    \n",
    "            model.trace_func(x, lambda z: z, \"coord\")\n",
    "            model.trace_func(x, lambda x: model.best_loss(x, L), \"best_L\")\n",
    "            # --- 진행률 (print 버전) ---\n",
    "            # if (it + 1) % 50 == 0 or it == maxiter - 1:\n",
    "            #     pct = (simnum * maxiter + it + 1) / (nsim * maxiter) * 100\n",
    "            #     print(f\"\\rProgress: {pct:.1f}%\", end=\"\")\n",
    "            if has_converged_all_coords_equal(x,1e-4):\n",
    "\n",
    "                break\n",
    "        # 시뮬레이션 종료 후 개행\n",
    "        # print(it)\n",
    "        model.save_func(\"coord\", simnum=simnum)\n",
    "        model.save_func(\"best_L\", simnum=simnum)\n",
    "        # eps = 1e-12\n",
    "        # plt.figure()\n",
    "        # plt.plot(np.arange(maxiter), E + eps, label='E_n')\n",
    "        # plt.yscale('log')\n",
    "        # plt.title(f'sim{simnum:04d}')\n",
    "        # plt.xlabel('iter')\n",
    "        # plt.ylabel('energy')\n",
    "        # plt.legend()\n",
    "        # plt.savefig(figs_dir / \"energy.png\", dpi=150, bbox_inches=\"tight\")\n",
    "        # plt.close()\n"
   ]
  },
  {
   "cell_type": "code",
   "execution_count": 92,
   "id": "660a309a",
   "metadata": {},
   "outputs": [
    {
     "name": "stdout",
     "output_type": "stream",
     "text": [
      "50\n"
     ]
    }
   ],
   "source": [
    "print(nsim)"
   ]
  },
  {
   "cell_type": "code",
   "execution_count": 93,
   "id": "3055bf1f-44f2-471b-9f8a-d55a367ecb93",
   "metadata": {},
   "outputs": [
    {
     "name": "stdout",
     "output_type": "stream",
     "text": [
      "best_L mean[-10:]: [12.31385483 12.31397517 12.31408396 12.31418225 12.31427103 12.31435118\n",
      " 12.31442352 12.3144888  12.31454768 12.31460079]\n",
      "coord mean shape: (94, 15)\n"
     ]
    }
   ],
   "source": [
    "from src.trace_stats import summarize_scalar_trace, summarize_coord_trace, save_stats_json\n",
    "\n",
    "run_root = \"results/250902RAST_Lam1_0\"   # 본인 실험 폴더\n",
    "\n",
    "# 1) best_L (스칼라) 통계\n",
    "bestL_stats = summarize_scalar_trace(run_root, funcname=\"best_L\")\n",
    "print(\"best_L mean[-10:]:\", bestL_stats[\"mean\"][-10:])\n",
    "save_stats_json(bestL_stats, f\"{run_root}/stats/best_L_stats.json\")\n",
    "\n",
    "# 2) coord (N,D) 통계\n",
    "coord_stats = summarize_coord_trace(run_root, funcname=\"coord\",\n",
    "                                    reduce_over=\"particles_and_sims\")\n",
    "print(\"coord mean shape:\", coord_stats[\"mean\"].shape)  # (T, D)\n",
    "save_stats_json(coord_stats, f\"{run_root}/stats/coord_stats.json\")\n"
   ]
  },
  {
   "cell_type": "code",
   "execution_count": 94,
   "id": "33b3823f-8ce0-40d4-9d95-21ac315d3ac6",
   "metadata": {},
   "outputs": [
    {
     "name": "stdout",
     "output_type": "stream",
     "text": [
      "12.314600786709564\n",
      "1.4467947652799524\n",
      "94.0\n",
      "0.0\n"
     ]
    }
   ],
   "source": [
    "run_root = \"results/250902RAST_Lam1_0\"   # 본인 실험 폴더\n",
    "\n",
    "# 1) best_L (스칼라) 통계\n",
    "bestL_statsL = summarize_scalar_trace(run_root, funcname=\"best_L\")\n",
    "print(bestL_statsL['mean'][-1])\n",
    "print(bestL_statsL['std'][-1])\n",
    "print(bestL_statsL['iters'])\n",
    "print(bestL_statsL['iters_var'])\n",
    "\n",
    "result_set = {}\n",
    "result_set['Lam1_0'] = np.array([bestL_statsL['mean'][-1],bestL_statsL['std'][-1],bestL_statsL['iters'],bestL_statsL['iters_var']])\n"
   ]
  },
  {
   "cell_type": "code",
   "execution_count": 95,
   "id": "7b720b8d-237b-4f25-9863-987ea7bb7cf7",
   "metadata": {},
   "outputs": [
    {
     "name": "stdout",
     "output_type": "stream",
     "text": [
      "9.201635678802274\n",
      "0.9881024719111268\n",
      "94.0\n",
      "0.0\n"
     ]
    }
   ],
   "source": [
    "run_root = \"results/250902RAST_Lam1_1\"   # 본인 실험 폴더\n",
    "\n",
    "# 1) best_L (스칼라) 통계\n",
    "bestL_statsL = summarize_scalar_trace(run_root, funcname=\"best_L\")\n",
    "print(bestL_statsL['mean'][-1])\n",
    "print(bestL_statsL['std'][-1])\n",
    "print(bestL_statsL['iters'])\n",
    "print(bestL_statsL['iters_var'])\n",
    "\n",
    "result_set['Lam1_1'] = np.array([bestL_statsL['mean'][-1],bestL_statsL['std'][-1],bestL_statsL['iters'],bestL_statsL['iters_var']])"
   ]
  },
  {
   "cell_type": "code",
   "execution_count": 96,
   "id": "0119f540-0d28-43eb-b607-bed381ee90c4",
   "metadata": {},
   "outputs": [
    {
     "name": "stdout",
     "output_type": "stream",
     "text": [
      "8.137997887858834\n",
      "0.7086171083991687\n",
      "94.0\n",
      "0.0\n"
     ]
    }
   ],
   "source": [
    "run_root = \"results/250902RAST_Lam1_2\"   # 본인 실험 폴더\n",
    "\n",
    "# 1) best_L (스칼라) 통계\n",
    "bestL_statsL = summarize_scalar_trace(run_root, funcname=\"best_L\")\n",
    "print(bestL_statsL['mean'][-1])\n",
    "print(bestL_statsL['std'][-1])\n",
    "print(bestL_statsL['iters'])\n",
    "print(bestL_statsL['iters_var'])\n",
    "\n",
    "result_set['Lam1_2'] = np.array([bestL_statsL['mean'][-1],bestL_statsL['std'][-1],bestL_statsL['iters'],bestL_statsL['iters_var']])"
   ]
  },
  {
   "cell_type": "code",
   "execution_count": 97,
   "id": "15a6d570-f1fe-4a0f-aee3-e54927df9c3e",
   "metadata": {},
   "outputs": [
    {
     "name": "stdout",
     "output_type": "stream",
     "text": [
      "7.7166424110249014\n",
      "0.9566655466505245\n",
      "94.0\n",
      "0.0\n"
     ]
    }
   ],
   "source": [
    "run_root = \"results/250902RAST_Lam1_3\"   # 본인 실험 폴더\n",
    "\n",
    "# 1) best_L (스칼라) 통계\n",
    "bestL_statsL = summarize_scalar_trace(run_root, funcname=\"best_L\")\n",
    "print(bestL_statsL['mean'][-1])\n",
    "print(bestL_statsL['std'][-1])\n",
    "print(bestL_statsL['iters'])\n",
    "print(bestL_statsL['iters_var'])\n",
    "\n",
    "result_set['Lam1_3'] = np.array([bestL_statsL['mean'][-1],bestL_statsL['std'][-1],bestL_statsL['iters'],bestL_statsL['iters_var']])"
   ]
  },
  {
   "cell_type": "code",
   "execution_count": 98,
   "id": "dc91172d-3f48-46c0-a332-0f413129cc31",
   "metadata": {},
   "outputs": [
    {
     "name": "stdout",
     "output_type": "stream",
     "text": [
      "7.476726063898948\n",
      "0.9154143756985312\n",
      "94.0\n",
      "0.0\n"
     ]
    }
   ],
   "source": [
    "run_root = \"results/250902RAST_Lam1_4\"   # 본인 실험 폴더\n",
    "\n",
    "# 1) best_L (스칼라) 통계\n",
    "bestL_statsL = summarize_scalar_trace(run_root, funcname=\"best_L\")\n",
    "print(bestL_statsL['mean'][-1])\n",
    "print(bestL_statsL['std'][-1])\n",
    "print(bestL_statsL['iters'])\n",
    "print(bestL_statsL['iters_var'])\n",
    "\n",
    "result_set['Lam1_4'] = np.array([bestL_statsL['mean'][-1],bestL_statsL['std'][-1],bestL_statsL['iters'],bestL_statsL['iters_var']])"
   ]
  },
  {
   "cell_type": "code",
   "execution_count": 99,
   "id": "8839ccd5-344f-49a6-94b4-352e0a143120",
   "metadata": {},
   "outputs": [
    {
     "name": "stdout",
     "output_type": "stream",
     "text": [
      "7.17624629653209\n",
      "0.8368763282957614\n",
      "94.0\n",
      "0.0\n"
     ]
    }
   ],
   "source": [
    "run_root = \"results/250902RAST_Lam1_5\"   # 본인 실험 폴더\n",
    "\n",
    "# 1) best_L (스칼라) 통계\n",
    "bestL_statsL = summarize_scalar_trace(run_root, funcname=\"best_L\")\n",
    "print(bestL_statsL['mean'][-1])\n",
    "print(bestL_statsL['std'][-1])\n",
    "print(bestL_statsL['iters'])\n",
    "print(bestL_statsL['iters_var'])\n",
    "\n",
    "result_set['Lam1_5'] = np.array([bestL_statsL['mean'][-1],bestL_statsL['std'][-1],bestL_statsL['iters'],bestL_statsL['iters_var']])"
   ]
  },
  {
   "cell_type": "code",
   "execution_count": 100,
   "id": "24a799bc-bb0c-41b8-b8d4-c1ff5c7ecb4e",
   "metadata": {},
   "outputs": [
    {
     "name": "stdout",
     "output_type": "stream",
     "text": [
      "7.120373929224956\n",
      "1.0040142235913965\n",
      "94.0\n",
      "0.0\n"
     ]
    }
   ],
   "source": [
    "run_root = \"results/250902RAST_Lam1_6\"   # 본인 실험 폴더\n",
    "\n",
    "# 1) best_L (스칼라) 통계\n",
    "bestL_statsL = summarize_scalar_trace(run_root, funcname=\"best_L\")\n",
    "print(bestL_statsL['mean'][-1])\n",
    "print(bestL_statsL['std'][-1])\n",
    "print(bestL_statsL['iters'])\n",
    "print(bestL_statsL['iters_var'])\n",
    "\n",
    "result_set['Lam1_6'] = np.array([bestL_statsL['mean'][-1],bestL_statsL['std'][-1],bestL_statsL['iters'],bestL_statsL['iters_var']])"
   ]
  },
  {
   "cell_type": "code",
   "execution_count": 101,
   "id": "ed9ff667-a7eb-4bbd-9336-b33a7c62bc7a",
   "metadata": {},
   "outputs": [
    {
     "name": "stdout",
     "output_type": "stream",
     "text": [
      "6.773421749825997\n",
      "1.2334227717356157\n",
      "94.0\n",
      "0.0\n"
     ]
    }
   ],
   "source": [
    "run_root = \"results/250902RAST_Lam1_7\"   # 본인 실험 폴더\n",
    "\n",
    "# 1) best_L (스칼라) 통계\n",
    "bestL_statsL = summarize_scalar_trace(run_root, funcname=\"best_L\")\n",
    "print(bestL_statsL['mean'][-1])\n",
    "print(bestL_statsL['std'][-1])\n",
    "print(bestL_statsL['iters'])\n",
    "print(bestL_statsL['iters_var'])\n",
    "\n",
    "result_set['Lam1_7'] = np.array([bestL_statsL['mean'][-1],bestL_statsL['std'][-1],bestL_statsL['iters'],bestL_statsL['iters_var']])"
   ]
  },
  {
   "cell_type": "code",
   "execution_count": 102,
   "id": "7381a121-5abd-4932-b135-cfec86a03891",
   "metadata": {},
   "outputs": [
    {
     "name": "stdout",
     "output_type": "stream",
     "text": [
      "6.987979473571276\n",
      "1.4241075952778899\n",
      "94.0\n",
      "0.0\n"
     ]
    }
   ],
   "source": [
    "run_root = \"results/250902RAST_Lam1_8\"   # 본인 실험 폴더\n",
    "\n",
    "# 1) best_L (스칼라) 통계\n",
    "bestL_statsL = summarize_scalar_trace(run_root, funcname=\"best_L\")\n",
    "print(bestL_statsL['mean'][-1])\n",
    "print(bestL_statsL['std'][-1])\n",
    "print(bestL_statsL['iters'])\n",
    "print(bestL_statsL['iters_var'])\n",
    "\n",
    "result_set['Lam1_8'] = np.array([bestL_statsL['mean'][-1],bestL_statsL['std'][-1],bestL_statsL['iters'],bestL_statsL['iters_var']])"
   ]
  },
  {
   "cell_type": "code",
   "execution_count": 103,
   "id": "f3ea9d55-da89-431c-95aa-9104e19b982f",
   "metadata": {},
   "outputs": [
    {
     "name": "stdout",
     "output_type": "stream",
     "text": [
      "6.775082978344202\n",
      "1.2379001474419022\n",
      "94.0\n",
      "0.0\n"
     ]
    }
   ],
   "source": [
    "run_root = \"results/250902RAST_Lam1_9\"   # 본인 실험 폴더\n",
    "\n",
    "# 1) best_L (스칼라) 통계\n",
    "bestL_statsL = summarize_scalar_trace(run_root, funcname=\"best_L\")\n",
    "print(bestL_statsL['mean'][-1])\n",
    "print(bestL_statsL['std'][-1])\n",
    "print(bestL_statsL['iters'])\n",
    "print(bestL_statsL['iters_var'])\n",
    "\n",
    "result_set['Lam1_9'] = np.array([bestL_statsL['mean'][-1],bestL_statsL['std'][-1],bestL_statsL['iters'],bestL_statsL['iters_var']])"
   ]
  },
  {
   "cell_type": "code",
   "execution_count": 104,
   "id": "d93018b3-d078-4ce9-8631-058ba8fb6501",
   "metadata": {},
   "outputs": [
    {
     "name": "stdout",
     "output_type": "stream",
     "text": [
      "6.727654495148381\n",
      "1.4838904437157854\n",
      "94.0\n",
      "0.0\n"
     ]
    }
   ],
   "source": [
    "run_root = \"results/250902RAST_Lam1_10\"   # 본인 실험 폴더\n",
    "\n",
    "# 1) best_L (스칼라) 통계\n",
    "bestL_statsL = summarize_scalar_trace(run_root, funcname=\"best_L\")\n",
    "print(bestL_statsL['mean'][-1])\n",
    "print(bestL_statsL['std'][-1])\n",
    "print(bestL_statsL['iters'])\n",
    "print(bestL_statsL['iters_var'])\n",
    "\n",
    "result_set['Lam1_10'] = np.array([bestL_statsL['mean'][-1],bestL_statsL['std'][-1],bestL_statsL['iters'],bestL_statsL['iters_var']])"
   ]
  },
  {
   "cell_type": "code",
   "execution_count": 106,
   "id": "a97fbeda-90c5-4b64-add4-de98eba9ac12",
   "metadata": {},
   "outputs": [
    {
     "name": "stdout",
     "output_type": "stream",
     "text": [
      "12.314600786709564\n",
      "1.4467947652799524\n",
      "94.0\n",
      "0.0\n"
     ]
    }
   ],
   "source": [
    "run_root = \"results/250902RAST_Sigma_0\"   # 본인 실험 폴더\n",
    "\n",
    "# 1) best_L (스칼라) 통계\n",
    "bestL_statsL = summarize_scalar_trace(run_root, funcname=\"best_L\")\n",
    "print(bestL_statsL['mean'][-1])\n",
    "print(bestL_statsL['std'][-1])\n",
    "print(bestL_statsL['iters'])\n",
    "print(bestL_statsL['iters_var'])\n",
    "\n",
    "result_set['Sigma_0'] = np.array([bestL_statsL['mean'][-1],bestL_statsL['std'][-1],bestL_statsL['iters'],bestL_statsL['iters_var']])"
   ]
  },
  {
   "cell_type": "code",
   "execution_count": 107,
   "id": "c1126cef-455c-4726-9bb4-2a9451e643f1",
   "metadata": {},
   "outputs": [
    {
     "name": "stdout",
     "output_type": "stream",
     "text": [
      "11.75163954459171\n",
      "1.0748709425057446\n",
      "94.92\n",
      "307.9136\n"
     ]
    }
   ],
   "source": [
    "run_root = \"results/250902RAST_Sigma_1\"   # 본인 실험 폴더\n",
    "\n",
    "# 1) best_L (스칼라) 통계\n",
    "bestL_statsL = summarize_scalar_trace(run_root, funcname=\"best_L\")\n",
    "print(bestL_statsL['mean'][-1])\n",
    "print(bestL_statsL['std'][-1])\n",
    "print(bestL_statsL['iters'])\n",
    "print(bestL_statsL['iters_var'])\n",
    "\n",
    "result_set['Sigma_1'] = np.array([bestL_statsL['mean'][-1],bestL_statsL['std'][-1],bestL_statsL['iters'],bestL_statsL['iters_var']])"
   ]
  },
  {
   "cell_type": "code",
   "execution_count": 108,
   "id": "8bfdea84-512b-4a3b-b3b2-9fe8f97067f5",
   "metadata": {},
   "outputs": [
    {
     "name": "stdout",
     "output_type": "stream",
     "text": [
      "10.962600411726717\n",
      "1.4428460116480892\n",
      "66.66\n",
      "261.94440000000003\n"
     ]
    }
   ],
   "source": [
    "run_root = \"results/250902RAST_Sigma_2\"   # 본인 실험 폴더\n",
    "\n",
    "# 1) best_L (스칼라) 통계\n",
    "bestL_statsL = summarize_scalar_trace(run_root, funcname=\"best_L\")\n",
    "print(bestL_statsL['mean'][-1])\n",
    "print(bestL_statsL['std'][-1])\n",
    "print(bestL_statsL['iters'])\n",
    "print(bestL_statsL['iters_var'])\n",
    "\n",
    "result_set['Sigma_2'] = np.array([bestL_statsL['mean'][-1],bestL_statsL['std'][-1],bestL_statsL['iters'],bestL_statsL['iters_var']])"
   ]
  },
  {
   "cell_type": "code",
   "execution_count": 109,
   "id": "0aca8ab8-e6c3-4705-ab90-b58fedacf2d9",
   "metadata": {},
   "outputs": [
    {
     "name": "stdout",
     "output_type": "stream",
     "text": [
      "9.781387528338545\n",
      "1.6794068900191015\n",
      "94.42\n",
      "1070.0836\n"
     ]
    }
   ],
   "source": [
    "run_root = \"results/250902RAST_Sigma_3\"   # 본인 실험 폴더\n",
    "\n",
    "# 1) best_L (스칼라) 통계\n",
    "bestL_statsL = summarize_scalar_trace(run_root, funcname=\"best_L\")\n",
    "print(bestL_statsL['mean'][-1])\n",
    "print(bestL_statsL['std'][-1])\n",
    "print(bestL_statsL['iters'])\n",
    "print(bestL_statsL['iters_var'])\n",
    "\n",
    "result_set['Sigma_3'] = np.array([bestL_statsL['mean'][-1],bestL_statsL['std'][-1],bestL_statsL['iters'],bestL_statsL['iters_var']])"
   ]
  },
  {
   "cell_type": "code",
   "execution_count": 110,
   "id": "eeda346f-4ca9-4736-9ea6-3b68f0717e38",
   "metadata": {},
   "outputs": [
    {
     "name": "stdout",
     "output_type": "stream",
     "text": [
      "9.590781818753374\n",
      "1.7559581945059382\n",
      "225.44\n",
      "8000.126400000001\n"
     ]
    }
   ],
   "source": [
    "run_root = \"results/250902RAST_Sigma_4\"   # 본인 실험 폴더\n",
    "\n",
    "# 1) best_L (스칼라) 통계\n",
    "bestL_statsL = summarize_scalar_trace(run_root, funcname=\"best_L\")\n",
    "print(bestL_statsL['mean'][-1])\n",
    "print(bestL_statsL['std'][-1])\n",
    "print(bestL_statsL['iters'])\n",
    "print(bestL_statsL['iters_var'])\n",
    "\n",
    "result_set['Sigma_4'] = np.array([bestL_statsL['mean'][-1],bestL_statsL['std'][-1],bestL_statsL['iters'],bestL_statsL['iters_var']])"
   ]
  },
  {
   "cell_type": "code",
   "execution_count": 111,
   "id": "27779c95-fdba-4e7d-bf1d-3316ca5e6e7a",
   "metadata": {},
   "outputs": [
    {
     "name": "stdout",
     "output_type": "stream",
     "text": [
      "11.297128510076448\n",
      "2.106570037767396\n",
      "3738.38\n",
      "1552644.7155999998\n"
     ]
    }
   ],
   "source": [
    "run_root = \"results/250902RAST_Sigma_5\"   # 본인 실험 폴더\n",
    "\n",
    "# 1) best_L (스칼라) 통계\n",
    "bestL_statsL = summarize_scalar_trace(run_root, funcname=\"best_L\")\n",
    "print(bestL_statsL['mean'][-1])\n",
    "print(bestL_statsL['std'][-1])\n",
    "print(bestL_statsL['iters'])\n",
    "print(bestL_statsL['iters_var'])\n",
    "\n",
    "result_set['Sigma_5'] = np.array([bestL_statsL['mean'][-1],bestL_statsL['std'][-1],bestL_statsL['iters'],bestL_statsL['iters_var']])"
   ]
  },
  {
   "cell_type": "code",
   "execution_count": 112,
   "id": "cefe2631-8bad-4ef4-9a18-4ac161fae9b4",
   "metadata": {},
   "outputs": [
    {
     "name": "stderr",
     "output_type": "stream",
     "text": [
      "<>:36: SyntaxWarning: invalid escape sequence '\\l'\n",
      "<>:40: SyntaxWarning: invalid escape sequence '\\s'\n",
      "<>:36: SyntaxWarning: invalid escape sequence '\\l'\n",
      "<>:40: SyntaxWarning: invalid escape sequence '\\s'\n",
      "C:\\Users\\Jaeyoung\\AppData\\Local\\Temp\\ipykernel_24408\\2614154681.py:36: SyntaxWarning: invalid escape sequence '\\l'\n",
      "  plt.plot(x_lam, y_lam, marker='o', color='red', label='Ad-CBO ($\\lambda_0$)')\n",
      "C:\\Users\\Jaeyoung\\AppData\\Local\\Temp\\ipykernel_24408\\2614154681.py:40: SyntaxWarning: invalid escape sequence '\\s'\n",
      "  plt.plot(x_sigma, y_sigma, marker='o', color='blue', label='CBO with noise ($\\sigma$)')\n"
     ]
    },
    {
     "data": {
      "image/png": "[encoded data removed]",
      "text/plain": [
       "<Figure size 1000x600 with 1 Axes>"
      ]
     },
     "metadata": {},
     "output_type": "display_data"
    }
   ],
   "source": [
    "# result_set\n",
    "# Lam1 데이터\n",
    "x_lam = []\n",
    "y_lam = []\n",
    "yerr_lam = []\n",
    "for i in range(6):\n",
    "    key = f'Lam1_{i}'\n",
    "    val = result_set[key]\n",
    "    x_lam.append(i)\n",
    "    y_lam.append(val[0])\n",
    "    yerr_lam.append(val[1])\n",
    "\n",
    "x_lam = np.array(x_lam)\n",
    "y_lam = np.array(y_lam)\n",
    "yerr_lam = np.array(yerr_lam)\n",
    "\n",
    "# Sigma 데이터\n",
    "x_sigma = []\n",
    "y_sigma = []\n",
    "yerr_sigma = []\n",
    "for i in range(6):  # Sigma_0 ~ Sigma_5\n",
    "    key = f'Sigma_{i}'\n",
    "    val = result_set[key]\n",
    "    x_sigma.append(i)\n",
    "    y_sigma.append(val[0])\n",
    "    yerr_sigma.append(val[1])\n",
    "\n",
    "x_sigma = np.array(x_sigma)\n",
    "y_sigma = np.array(y_sigma)\n",
    "yerr_sigma = np.array(yerr_sigma)\n",
    "\n",
    "# 그래프 그리기\n",
    "plt.figure(figsize=(10,6))\n",
    "\n",
    "# Lam1\n",
    "plt.plot(x_lam, y_lam, marker='o', color='red', label='Ad-CBO ($\\lambda_0$)')\n",
    "plt.fill_between(x_lam, y_lam - yerr_lam, y_lam + yerr_lam, color='red', alpha=0.2)\n",
    "\n",
    "# Sigma\n",
    "plt.plot(x_sigma, y_sigma, marker='o', color='blue', label='CBO with noise ($\\sigma$)')\n",
    "plt.fill_between(x_sigma, y_sigma - yerr_sigma, y_sigma + yerr_sigma, color='blue', alpha=0.2)\n",
    "\n",
    "# plt.xlabel('$\\lambda_0$(red), $\\sigma$(blue)')\n",
    "# plt.ylabel('Value')\n",
    "# plt.title('Confidence Intervals for $L(x_\\infty)$')\n",
    "# plt.legend()\n",
    "plt.grid(True)\n",
    "# plt.show()\n",
    "\n",
    "plt.savefig(\"Confidence Intervals.pdf\", format='pdf', bbox_inches='tight')"
   ]
  },
  {
   "cell_type": "code",
   "execution_count": null,
   "id": "e2e370f9",
   "metadata": {},
   "outputs": [],
   "source": [
    "import numpy as np\n",
    "import matplotlib.pyplot as plt\n",
    "from scipy.stats import norm\n",
    "from scipy.integrate import quad\n",
    "\n",
    "# 파라미터\n",
    "h = 0.1\n",
    "lambda0 = 1\n",
    "mu = 1 - h*lambda0\n",
    "a = np.sqrt(h)\n",
    "\n",
    "# Lambda(sigma) 정의\n",
    "def Lambda(sigma):\n",
    "    integrand = lambda z: np.log(np.abs(mu - a*sigma*z)) * norm.pdf(z)\n",
    "    val, _ = quad(integrand, -np.inf, np.inf, limit=200)\n",
    "    return val\n",
    "\n",
    "# sigma 범위\n",
    "sigma_vals = np.linspace(0.01, 7, 200)  # 0 제외, 로그에서 0 방지\n",
    "Lambda_vals = np.array([Lambda(s) for s in sigma_vals])"
   ]
  },
  {
   "cell_type": "code",
   "execution_count": null,
   "id": "7f234914",
   "metadata": {},
   "outputs": [
    {
     "data": {
      "image/png": "[encoded data removed]",
      "text/plain": [
       "<Figure size 640x480 with 1 Axes>"
      ]
     },
     "metadata": {},
     "output_type": "display_data"
    }
   ],
   "source": [
    "# 그래프\n",
    "plt.plot(sigma_vals,np.zeros(np.shape(sigma_vals)),color='black',linewidth=2)\n",
    "plt.plot(sigma_vals, Lambda_vals, label=r'$\\Lambda(\\sigma)$',color='blue',linewidth=2)\n",
    "plt.scatter(5.17, 0, color='blue', s=50)\n",
    "plt.grid(True)\n",
    "# plt.show()\n",
    "plt.savefig(\"Lambda_vs_sigma.pdf\", format='pdf', bbox_inches='tight')\n"
   ]
  },
  {
   "cell_type": "code",
   "execution_count": null,
   "id": "58d05fcb",
   "metadata": {},
   "outputs": [
    {
     "name": "stdout",
     "output_type": "stream",
     "text": [
      "[5.13834171 5.17346734]\n",
      "[-0.00388192  0.00105335]\n"
     ]
    }
   ],
   "source": [
    "print(sigma_vals[146:148])\n",
    "print(Lambda_vals[146:148])"
   ]
  },
  {
   "cell_type": "markdown",
   "id": "13717d93",
   "metadata": {},
   "source": []
  }
 ],
 "metadata": {
  "kernelspec": {
   "display_name": "Python 3",
   "language": "python",
   "name": "python3"
  },
  "language_info": {
   "codemirror_mode": {
    "name": "ipython",
    "version": 3
   },
   "file_extension": ".py",
   "mimetype": "text/x-python",
   "name": "python",
   "nbconvert_exporter": "python",
   "pygments_lexer": "ipython3",
   "version": "3.13.5"
  }
 },
 "nbformat": 4,
 "nbformat_minor": 5
}
