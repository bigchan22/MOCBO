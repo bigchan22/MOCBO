{
 "cells": [
  {
   "cell_type": "code",
   "execution_count": 1,
   "id": "3bed4c4c-0168-4902-8e3c-8dba8dcbe008",
   "metadata": {},
   "outputs": [],
   "source": [
    "import numpy as np\n",
    "import pandas as pd\n",
    "import matplotlib.pyplot as plt\n",
    "import yaml\n",
    "from pathlib import Path\n",
    "from src.L_functions import get_vol, get_neg_sharpe, rast\n",
    "from src.Models import Multi_CBO_model, gen_Psi,CBO_model\n",
    "from src.utils import Lmin, avg_x, avg_L, load_config, next_run_index, save_run_config\n",
    "import random\n",
    "import os\n",
    "import sys\n",
    "from tqdm import trange  # pip install tqdm"
   ]
  },
  {
   "cell_type": "code",
   "execution_count": 2,
   "id": "cc39eceb-8084-4fb1-bad3-e66e2fbe243d",
   "metadata": {},
   "outputs": [],
   "source": [
    "def has_converged_all_coords_equal(X: np.ndarray, tol: float = 1e-6) -> bool:\n",
    "    \"\"\"\n",
    "    X: (N, D) 파티클 행렬\n",
    "    tol: 좌표별 허용 오차. max-min <= tol 이면 같은 값으로 간주.\n",
    "    \"\"\"\n",
    "    # np.ptp = max - min, axis=0 → 각 좌표(l)별 범위\n",
    "    return np.all(np.ptp(X, axis=0) <= tol)"
   ]
  },
  {
   "cell_type": "code",
   "execution_count": 3,
   "id": "32eba467-326f-4638-9496-802290210434",
   "metadata": {
    "scrolled": true
   },
   "outputs": [
    {
     "name": "stdout",
     "output_type": "stream",
     "text": [
      "0\n",
      "93\n",
      "93\n",
      "93\n",
      "93\n",
      "93\n",
      "93\n",
      "93\n",
      "93\n",
      "93\n",
      "93\n",
      "93\n",
      "93\n",
      "93\n",
      "93\n",
      "93\n",
      "93\n",
      "93\n",
      "93\n",
      "93\n",
      "93\n",
      "93\n",
      "93\n",
      "93\n",
      "93\n",
      "93\n",
      "93\n",
      "93\n",
      "93\n",
      "93\n",
      "93\n",
      "93\n",
      "93\n",
      "93\n",
      "93\n",
      "93\n",
      "93\n",
      "93\n",
      "93\n",
      "93\n",
      "93\n",
      "93\n",
      "93\n",
      "93\n",
      "93\n",
      "93\n",
      "93\n",
      "93\n",
      "93\n",
      "93\n",
      "93\n",
      "1\n",
      "179\n",
      "152\n",
      "218\n",
      "145\n",
      "151\n",
      "186\n",
      "147\n",
      "146\n",
      "154\n",
      "162\n",
      "162\n",
      "173\n",
      "164\n",
      "177\n",
      "144\n",
      "154\n",
      "159\n",
      "157\n",
      "171\n",
      "167\n",
      "163\n",
      "171\n",
      "170\n",
      "178\n",
      "173\n",
      "178\n",
      "145\n",
      "202\n",
      "154\n",
      "169\n",
      "165\n",
      "169\n",
      "143\n",
      "171\n",
      "165\n",
      "140\n",
      "197\n",
      "149\n",
      "141\n",
      "195\n",
      "175\n",
      "161\n",
      "152\n",
      "202\n",
      "171\n",
      "206\n",
      "157\n",
      "157\n",
      "143\n",
      "144\n",
      "2\n",
      "335\n",
      "262\n",
      "332\n",
      "326\n",
      "257\n",
      "360\n",
      "324\n",
      "292\n",
      "353\n",
      "380\n",
      "408\n",
      "341\n",
      "401\n",
      "433\n",
      "521\n",
      "429\n",
      "294\n",
      "368\n",
      "340\n",
      "396\n",
      "353\n",
      "393\n",
      "397\n",
      "283\n",
      "446\n",
      "405\n",
      "322\n",
      "400\n",
      "292\n",
      "289\n",
      "455\n",
      "343\n",
      "406\n",
      "345\n",
      "361\n",
      "463\n",
      "337\n",
      "393\n",
      "470\n",
      "358\n",
      "501\n",
      "367\n",
      "414\n",
      "325\n",
      "466\n",
      "311\n",
      "412\n",
      "380\n",
      "327\n",
      "516\n",
      "3\n",
      "999\n",
      "999\n",
      "999\n",
      "999\n",
      "999\n",
      "999\n",
      "999\n",
      "999\n",
      "999\n",
      "999\n",
      "999\n",
      "999\n",
      "999\n",
      "999\n",
      "999\n",
      "999\n",
      "999\n",
      "999\n",
      "999\n",
      "999\n",
      "999\n",
      "999\n",
      "999\n",
      "999\n",
      "999\n",
      "999\n",
      "999\n",
      "999\n",
      "999\n",
      "999\n",
      "999\n",
      "999\n",
      "999\n",
      "999\n",
      "999\n",
      "999\n",
      "999\n",
      "999\n",
      "999\n",
      "999\n",
      "999\n",
      "999\n",
      "999\n",
      "999\n",
      "999\n",
      "999\n",
      "999\n",
      "999\n",
      "999\n",
      "999\n",
      "4\n",
      "999\n",
      "999\n",
      "999\n",
      "999\n",
      "999\n",
      "999\n",
      "999\n",
      "999\n",
      "999\n",
      "999\n",
      "999\n",
      "999\n",
      "999\n",
      "999\n",
      "999\n",
      "999\n",
      "999\n",
      "999\n",
      "999\n",
      "999\n",
      "999\n",
      "999\n",
      "999\n",
      "999\n",
      "999\n",
      "999\n",
      "999\n",
      "999\n",
      "999\n",
      "999\n",
      "999\n",
      "999\n",
      "999\n",
      "999\n",
      "999\n",
      "999\n",
      "999\n",
      "999\n",
      "999\n",
      "999\n",
      "999\n",
      "999\n",
      "999\n",
      "999\n",
      "999\n",
      "999\n",
      "999\n",
      "999\n",
      "999\n",
      "999\n"
     ]
    }
   ],
   "source": [
    "RESULTS_ROOT = Path(\"./results\")\n",
    "SIMNAME_SUB  = \"250901RAST_Sigma\"\n",
    "\n",
    "\n",
    "# ---- 메인 ----\n",
    "# np.random.seed(1)\n",
    "base_cfg   = load_config(\"configs/configRAST.yaml\")\n",
    "config = dict(base_cfg)\n",
    "# x0 = 2 * np.random.rand(config['nump'], config['D']) + 2\n",
    "# np.save( \"x0.npy\", x0)\n",
    "# x0 = np.load(\"x0.npy\")\n",
    "\n",
    "lam1 = 0 \n",
    "sigma = 0 \n",
    "for sigma in [0, 1, 2,3,4,]:\n",
    "    print(sigma)\n",
    "    run_idx  = next_run_index(RESULTS_ROOT, SIMNAME_SUB)\n",
    "    run_name = f\"{SIMNAME_SUB}_{run_idx}\"\n",
    "    run_root = RESULTS_ROOT / run_name           # 상위 simname 폴더 (여기 아래에 sim0000 ... 생성)\n",
    "    run_root.mkdir(parents=True, exist_ok=True)\n",
    "\n",
    "    # 원본 yaml 직접 덮지 말고 메모리에서 수정\n",
    "    config = dict(base_cfg)\n",
    "    config[\"sigma\"]    = sigma\n",
    "    config[\"simname\"] = run_name\n",
    "    config[\"lam1\"] = lam1\n",
    "    save_run_config(run_root, config)\n",
    "\n",
    "    # 문제 정의\n",
    "\n",
    "    L = rast\n",
    "\n",
    "\n",
    "\n",
    "    # 공용 초기값 (원하면 실험별 동일 초기값)\n",
    "    # x0 = 2 * np.random.rand(config['nump'], config['D']) + 2\n",
    "    # np.save(run_root / \"x0.npy\", x0)\n",
    "\n",
    "    nsim    = int(config['sim'])\n",
    "    maxiter = int(config.get('maxiter', 1000))\n",
    "\n",
    "    # 진행률: 바깥 루프(시뮬레이션 개수)\n",
    "    for simnum in range(nsim):\n",
    "        # 개별 sim 폴더 생성 ...\n",
    "        sim_dir  = run_root / f\"sim{simnum:04d}\"\n",
    "        figs_dir = sim_dir / \"figs\"\n",
    "        figs_dir.mkdir(parents=True, exist_ok=True)\n",
    "    \n",
    "        model = CBO_model(L, config)\n",
    "        model.path = str(sim_dir.resolve()) + \"/\"\n",
    "        model.make_path()\n",
    "    \n",
    "        # x = np.load( \"x0.npy\")\n",
    "        x = 2 * np.random.rand(config['nump'], config['D']) + 2\n",
    "        E = np.zeros(maxiter, dtype=float)\n",
    "    \n",
    "        for it in range(maxiter):\n",
    "    \n",
    "            if config.get('model', 1) == 1:\n",
    "                x = model.step(x, L)\n",
    "            else:\n",
    "                raise NotImplementedError(\"model!=1 분기 사용 시 다른 모델 지정 필요\")\n",
    "    \n",
    "            model.trace_func(x, lambda z: z, \"coord\")\n",
    "            model.trace_func(x, lambda x: model.best_loss(x, L), \"best_L\")\n",
    "            # --- 진행률 (print 버전) ---\n",
    "            # if (it + 1) % 50 == 0 or it == maxiter - 1:\n",
    "            #     pct = (simnum * maxiter + it + 1) / (nsim * maxiter) * 100\n",
    "            #     print(f\"\\rProgress: {pct:.1f}%\", end=\"\")\n",
    "            if has_converged_all_coords_equal(x,1e-4):\n",
    "\n",
    "                break\n",
    "        # 시뮬레이션 종료 후 개행\n",
    "        print(it)\n",
    "        model.save_func(\"coord\", simnum=simnum)\n",
    "        model.save_func(\"best_L\", simnum=simnum)\n",
    "        # eps = 1e-12\n",
    "        # plt.figure()\n",
    "        # plt.plot(np.arange(maxiter), E + eps, label='E_n')\n",
    "        # plt.yscale('log')\n",
    "        # plt.title(f'sim{simnum:04d}')\n",
    "        # plt.xlabel('iter')\n",
    "        # plt.ylabel('energy')\n",
    "        # plt.legend()\n",
    "        # plt.savefig(figs_dir / \"energy.png\", dpi=150, bbox_inches=\"tight\")\n",
    "        # plt.close()\n"
   ]
  },
  {
   "cell_type": "code",
   "execution_count": 21,
   "id": "3055bf1f-44f2-471b-9f8a-d55a367ecb93",
   "metadata": {},
   "outputs": [
    {
     "name": "stdout",
     "output_type": "stream",
     "text": [
      "best_L mean[-10:]: [12.17377215 12.17388534 12.17398767 12.17408014 12.17416366 12.17423908\n",
      " 12.17430715 12.17436858 12.17442399 12.17447397]\n",
      "coord mean shape: (94, 15)\n"
     ]
    }
   ],
   "source": [
    "from src.trace_stats import summarize_scalar_trace, summarize_coord_trace, save_stats_json\n",
    "\n",
    "run_root = \"results/250901RAST_Lam1_0\"   # 본인 실험 폴더\n",
    "\n",
    "# 1) best_L (스칼라) 통계\n",
    "bestL_stats = summarize_scalar_trace(run_root, funcname=\"best_L\")\n",
    "print(\"best_L mean[-10:]:\", bestL_stats[\"mean\"][-10:])\n",
    "save_stats_json(bestL_stats, f\"{run_root}/stats/best_L_stats.json\")\n",
    "\n",
    "# 2) coord (N,D) 통계\n",
    "coord_stats = summarize_coord_trace(run_root, funcname=\"coord\",\n",
    "                                    reduce_over=\"particles_and_sims\")\n",
    "print(\"coord mean shape:\", coord_stats[\"mean\"].shape)  # (T, D)\n",
    "save_stats_json(coord_stats, f\"{run_root}/stats/coord_stats.json\")"
   ]
  },
  {
   "cell_type": "code",
   "execution_count": 22,
   "id": "33b3823f-8ce0-40d4-9d95-21ac315d3ac6",
   "metadata": {},
   "outputs": [
    {
     "name": "stdout",
     "output_type": "stream",
     "text": [
      "12.174473968012128\n",
      "1.5990289252786989\n"
     ]
    }
   ],
   "source": [
    "run_root = \"results/250901RAST_Lam1_0\"   # 본인 실험 폴더\n",
    "\n",
    "# 1) best_L (스칼라) 통계\n",
    "bestL_statsL = summarize_scalar_trace(run_root, funcname=\"best_L\")\n",
    "print(bestL_statsL['mean'][-1])\n",
    "print(bestL_statsL['std'][-1])"
   ]
  },
  {
   "cell_type": "code",
   "execution_count": 23,
   "id": "7b720b8d-237b-4f25-9863-987ea7bb7cf7",
   "metadata": {},
   "outputs": [
    {
     "name": "stdout",
     "output_type": "stream",
     "text": [
      "9.240300946279678\n",
      "0.8537060928607634\n"
     ]
    }
   ],
   "source": [
    "run_root = \"results/250901RAST_Lam1_1\"   # 본인 실험 폴더\n",
    "\n",
    "# 1) best_L (스칼라) 통계\n",
    "bestL_statsL = summarize_scalar_trace(run_root, funcname=\"best_L\")\n",
    "print(bestL_statsL['mean'][-1])\n",
    "print(bestL_statsL['std'][-1])"
   ]
  },
  {
   "cell_type": "code",
   "execution_count": 24,
   "id": "0119f540-0d28-43eb-b607-bed381ee90c4",
   "metadata": {},
   "outputs": [
    {
     "name": "stdout",
     "output_type": "stream",
     "text": [
      "8.327667440253162\n",
      "0.7539113595991962\n"
     ]
    }
   ],
   "source": [
    "run_root = \"results/250901RAST_Lam1_2\"   # 본인 실험 폴더\n",
    "\n",
    "# 1) best_L (스칼라) 통계\n",
    "bestL_statsL = summarize_scalar_trace(run_root, funcname=\"best_L\")\n",
    "print(bestL_statsL['mean'][-1])\n",
    "print(bestL_statsL['std'][-1])"
   ]
  },
  {
   "cell_type": "code",
   "execution_count": 25,
   "id": "15a6d570-f1fe-4a0f-aee3-e54927df9c3e",
   "metadata": {},
   "outputs": [
    {
     "name": "stdout",
     "output_type": "stream",
     "text": [
      "7.782543190251637\n",
      "0.8713263780114124\n"
     ]
    }
   ],
   "source": [
    "run_root = \"results/250901RAST_Lam1_3\"   # 본인 실험 폴더\n",
    "\n",
    "# 1) best_L (스칼라) 통계\n",
    "bestL_statsL = summarize_scalar_trace(run_root, funcname=\"best_L\")\n",
    "print(bestL_statsL['mean'][-1])\n",
    "print(bestL_statsL['std'][-1])"
   ]
  },
  {
   "cell_type": "code",
   "execution_count": 26,
   "id": "dc91172d-3f48-46c0-a332-0f413129cc31",
   "metadata": {},
   "outputs": [
    {
     "name": "stdout",
     "output_type": "stream",
     "text": [
      "7.800282748675412\n",
      "1.1612651555301525\n"
     ]
    }
   ],
   "source": [
    "run_root = \"results/250901RAST_Lam1_4\"   # 본인 실험 폴더\n",
    "\n",
    "# 1) best_L (스칼라) 통계\n",
    "bestL_statsL = summarize_scalar_trace(run_root, funcname=\"best_L\")\n",
    "print(bestL_statsL['mean'][-1])\n",
    "print(bestL_statsL['std'][-1])"
   ]
  },
  {
   "cell_type": "code",
   "execution_count": 27,
   "id": "8839ccd5-344f-49a6-94b4-352e0a143120",
   "metadata": {},
   "outputs": [
    {
     "name": "stdout",
     "output_type": "stream",
     "text": [
      "7.607883430544479\n",
      "0.8923308138230056\n"
     ]
    }
   ],
   "source": [
    "run_root = \"results/250901RAST_Lam1_5\"   # 본인 실험 폴더\n",
    "\n",
    "# 1) best_L (스칼라) 통계\n",
    "bestL_statsL = summarize_scalar_trace(run_root, funcname=\"best_L\")\n",
    "print(bestL_statsL['mean'][-1])\n",
    "print(bestL_statsL['std'][-1])"
   ]
  },
  {
   "cell_type": "code",
   "execution_count": 28,
   "id": "24a799bc-bb0c-41b8-b8d4-c1ff5c7ecb4e",
   "metadata": {},
   "outputs": [
    {
     "name": "stdout",
     "output_type": "stream",
     "text": [
      "6.941875378188697\n",
      "0.8821265647433528\n"
     ]
    }
   ],
   "source": [
    "run_root = \"results/250901RAST_Lam1_6\"   # 본인 실험 폴더\n",
    "\n",
    "# 1) best_L (스칼라) 통계\n",
    "bestL_statsL = summarize_scalar_trace(run_root, funcname=\"best_L\")\n",
    "print(bestL_statsL['mean'][-1])\n",
    "print(bestL_statsL['std'][-1])"
   ]
  },
  {
   "cell_type": "code",
   "execution_count": 29,
   "id": "ed9ff667-a7eb-4bbd-9336-b33a7c62bc7a",
   "metadata": {},
   "outputs": [
    {
     "name": "stdout",
     "output_type": "stream",
     "text": [
      "7.006073719873931\n",
      "0.9905109178607489\n"
     ]
    }
   ],
   "source": [
    "run_root = \"results/250901RAST_Lam1_7\"   # 본인 실험 폴더\n",
    "\n",
    "# 1) best_L (스칼라) 통계\n",
    "bestL_statsL = summarize_scalar_trace(run_root, funcname=\"best_L\")\n",
    "print(bestL_statsL['mean'][-1])\n",
    "print(bestL_statsL['std'][-1])"
   ]
  },
  {
   "cell_type": "code",
   "execution_count": 30,
   "id": "7381a121-5abd-4932-b135-cfec86a03891",
   "metadata": {},
   "outputs": [
    {
     "name": "stdout",
     "output_type": "stream",
     "text": [
      "7.076906665678557\n",
      "1.1233456027339097\n"
     ]
    }
   ],
   "source": [
    "run_root = \"results/250901RAST_Lam1_8\"   # 본인 실험 폴더\n",
    "\n",
    "# 1) best_L (스칼라) 통계\n",
    "bestL_statsL = summarize_scalar_trace(run_root, funcname=\"best_L\")\n",
    "print(bestL_statsL['mean'][-1])\n",
    "print(bestL_statsL['std'][-1])"
   ]
  },
  {
   "cell_type": "code",
   "execution_count": 31,
   "id": "f3ea9d55-da89-431c-95aa-9104e19b982f",
   "metadata": {},
   "outputs": [
    {
     "name": "stdout",
     "output_type": "stream",
     "text": [
      "6.8728911101813965\n",
      "1.1803314435313466\n"
     ]
    }
   ],
   "source": [
    "run_root = \"results/250901RAST_Lam1_9\"   # 본인 실험 폴더\n",
    "\n",
    "# 1) best_L (스칼라) 통계\n",
    "bestL_statsL = summarize_scalar_trace(run_root, funcname=\"best_L\")\n",
    "print(bestL_statsL['mean'][-1])\n",
    "print(bestL_statsL['std'][-1])"
   ]
  },
  {
   "cell_type": "code",
   "execution_count": 32,
   "id": "d93018b3-d078-4ce9-8631-058ba8fb6501",
   "metadata": {},
   "outputs": [
    {
     "name": "stdout",
     "output_type": "stream",
     "text": [
      "6.746794708142394\n",
      "1.5050057209216536\n"
     ]
    }
   ],
   "source": [
    "run_root = \"results/250901RAST_Lam1_10\"   # 본인 실험 폴더\n",
    "\n",
    "# 1) best_L (스칼라) 통계\n",
    "bestL_statsL = summarize_scalar_trace(run_root, funcname=\"best_L\")\n",
    "print(bestL_statsL['mean'][-1])\n",
    "print(bestL_statsL['std'][-1])"
   ]
  },
  {
   "cell_type": "code",
   "execution_count": 33,
   "id": "a97fbeda-90c5-4b64-add4-de98eba9ac12",
   "metadata": {},
   "outputs": [
    {
     "name": "stdout",
     "output_type": "stream",
     "text": [
      "12.28158903756386\n",
      "1.296179267317333\n"
     ]
    }
   ],
   "source": [
    "run_root = \"results/250901RAST_Sigma_0\"   # 본인 실험 폴더\n",
    "\n",
    "# 1) best_L (스칼라) 통계\n",
    "bestL_statsL = summarize_scalar_trace(run_root, funcname=\"best_L\")\n",
    "print(bestL_statsL['mean'][-1])\n",
    "print(bestL_statsL['std'][-1])"
   ]
  },
  {
   "cell_type": "code",
   "execution_count": 34,
   "id": "c1126cef-455c-4726-9bb4-2a9451e643f1",
   "metadata": {},
   "outputs": [
    {
     "name": "stdout",
     "output_type": "stream",
     "text": [
      "8.587260613161936\n",
      "0.7420258236198349\n"
     ]
    }
   ],
   "source": [
    "run_root = \"results/250901RAST_Sigma_1\"   # 본인 실험 폴더\n",
    "\n",
    "# 1) best_L (스칼라) 통계\n",
    "bestL_statsL = summarize_scalar_trace(run_root, funcname=\"best_L\")\n",
    "print(bestL_statsL['mean'][-1])\n",
    "print(bestL_statsL['std'][-1])"
   ]
  },
  {
   "cell_type": "code",
   "execution_count": 35,
   "id": "8bfdea84-512b-4a3b-b3b2-9fe8f97067f5",
   "metadata": {},
   "outputs": [
    {
     "name": "stdout",
     "output_type": "stream",
     "text": [
      "3.1311904666378445\n",
      "0.8519939602848629\n"
     ]
    }
   ],
   "source": [
    "run_root = \"results/250901RAST_Sigma_2\"   # 본인 실험 폴더\n",
    "\n",
    "# 1) best_L (스칼라) 통계\n",
    "bestL_statsL = summarize_scalar_trace(run_root, funcname=\"best_L\")\n",
    "print(bestL_statsL['mean'][-1])\n",
    "print(bestL_statsL['std'][-1])"
   ]
  },
  {
   "cell_type": "code",
   "execution_count": 36,
   "id": "0aca8ab8-e6c3-4705-ab90-b58fedacf2d9",
   "metadata": {},
   "outputs": [
    {
     "name": "stdout",
     "output_type": "stream",
     "text": [
      "0.02629110649728862\n",
      "0.03742017580572429\n"
     ]
    }
   ],
   "source": [
    "run_root = \"results/250901RAST_Sigma_3\"   # 본인 실험 폴더\n",
    "\n",
    "# 1) best_L (스칼라) 통계\n",
    "bestL_statsL = summarize_scalar_trace(run_root, funcname=\"best_L\")\n",
    "print(bestL_statsL['mean'][-1])\n",
    "print(bestL_statsL['std'][-1])"
   ]
  },
  {
   "cell_type": "code",
   "execution_count": 37,
   "id": "eeda346f-4ca9-4736-9ea6-3b68f0717e38",
   "metadata": {},
   "outputs": [
    {
     "name": "stdout",
     "output_type": "stream",
     "text": [
      "0.02629110649728862\n",
      "0.03742017580572429\n"
     ]
    }
   ],
   "source": [
    "vrun_root = \"results/250901RAST_Sigma_4\"   # 본인 실험 폴더\n",
    "\n",
    "# 1) best_L (스칼라) 통계\n",
    "bestL_statsL = summarize_scalar_trace(run_root, funcname=\"best_L\")\n",
    "print(bestL_statsL['mean'][-1])\n",
    "print(bestL_statsL['std'][-1])"
   ]
  }
 ],
 "metadata": {
  "kernelspec": {
   "display_name": "Python 3 (ipykernel)",
   "language": "python",
   "name": "python3"
  },
  "language_info": {
   "codemirror_mode": {
    "name": "ipython",
    "version": 3
   },
   "file_extension": ".py",
   "mimetype": "text/x-python",
   "name": "python",
   "nbconvert_exporter": "python",
   "pygments_lexer": "ipython3",
   "version": "3.12.2"
  }
 },
 "nbformat": 4,
 "nbformat_minor": 5
}
