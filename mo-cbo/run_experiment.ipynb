{
 "cells": [
  {
   "cell_type": "markdown",
   "metadata": {},
   "source": [
    "2025.06.12"
   ]
  },
  {
   "cell_type": "markdown",
   "metadata": {},
   "source": [
    "1. 초기값이 그대로일 때, 증가폭이 변하지 않는가?\n",
    "2. 초기값이 그대로일 때, $\\beta$ 에 따라 증가폭이 변하는가?"
   ]
  },
  {
   "cell_type": "code",
   "execution_count": 1,
   "metadata": {},
   "outputs": [],
   "source": [
    "import numpy as np\n",
    "import pandas as pd\n",
    "import matplotlib.pyplot as plt\n",
    "import yaml\n",
    "from pathlib import Path\n",
    "from src.L_functions import get_vol, get_neg_sharpe, rast\n",
    "from src.Models import Multi_CBO_model, gen_Psi\n",
    "from src.utils import Lmin, avg_x, avg_L, load_config, next_run_index, save_run_config\n",
    "import random\n",
    "import os\n",
    "import sys\n",
    "from tqdm import trange  # pip install tqdm"
   ]
  },
  {
   "cell_type": "markdown",
   "metadata": {},
   "source": [
    "\\begin{align*}\n",
    "aL_1+(1-a)L_2 &= a\\left(x_1^2+\\frac{1}{4}x_2^2\\right)+(1-a)\\left(\\frac{1}{4}(x_1-2)^2+(x_2-2)^2\\right)\\\\\n",
    "&= \\frac{1+3a}{4}x_1^2-(1-a)x_1+1-a+\\frac{4-3a}{4}x_2^2-4(1-a)x_2+4(1-a)\n",
    "\\end{align*}\n",
    "Therefore, \n",
    "\\begin{equation*}\n",
    "X^*_a = \\left(\\frac{2(1-a)}{1+3a}, \\frac{8(1-a)}{4-3a}\\right)\n",
    "\\end{equation*}"
   ]
  },
  {
   "cell_type": "code",
   "execution_count": 2,
   "metadata": {},
   "outputs": [
    {
     "name": "stdout",
     "output_type": "stream",
     "text": [
      "\r",
      "Progress: 50.0%\r",
      "Progress: 100.0% done.\n"
     ]
    }
   ],
   "source": [
    "RESULTS_ROOT = Path(\"./results\")\n",
    "SIMNAME_SUB  = \"250612Exp\"\n",
    "\n",
    "\n",
    "# ---- 메인 ----\n",
    "np.random.seed(1)\n",
    "base_cfg   = load_config(\"configs/config2.yaml\")\n",
    "\n",
    "for beta in [16]:\n",
    "    run_idx  = next_run_index(RESULTS_ROOT, SIMNAME_SUB)\n",
    "    run_name = f\"{SIMNAME_SUB}_{run_idx}\"\n",
    "    run_root = RESULTS_ROOT / run_name           # 상위 simname 폴더 (여기 아래에 sim0000 ... 생성)\n",
    "    run_root.mkdir(parents=True, exist_ok=True)\n",
    "\n",
    "    # 원본 yaml 직접 덮지 말고 메모리에서 수정\n",
    "    config = dict(base_cfg)\n",
    "    config[\"beta\"]    = beta\n",
    "    config[\"simname\"] = run_name\n",
    "    save_run_config(run_root, config)\n",
    "\n",
    "    # 문제 정의\n",
    "    L1 = lambda x: x[0]**2 + x[1]**2/4\n",
    "    L2 = lambda x: (x[0]-2)**2/4 + (x[1]-2)**2\n",
    "    # 문제 정의\n",
    "    L1 = lambda x: 5*(x[0]-0.1)**2 + (x[1]-0.1)**2\n",
    "    L2 = lambda x: (x[0]-0.9)**2 + 5*(x[1]-0.9)**2\n",
    "\n",
    "    # alpha / minimizer 준비 (재현 위해 고정 seed 사용 중)\n",
    "    a = np.random.uniform(size=config['nump'])\n",
    "    minimizer = np.zeros((config['nump'], 2))\n",
    "    denom1 = 10*(1 + 4*a)\n",
    "    denom2 = 2*(5 - 4*a)\n",
    "    minimizer[:, 0] = 1*(9 - 4*a) / denom1\n",
    "    minimizer[:, 1] = 1*(9 - 8.8*a) / denom2\n",
    "    \n",
    "#     denom1 = (1 + 3*a)\n",
    "#     denom2 = (4 - 3*a)\n",
    "#     minimizer[:, 0] = 2*(1 - a) / denom1\n",
    "#     minimizer[:, 1] = 8*(1 - a) / denom2\n",
    "    \n",
    "    a_col = a.reshape(-1, 1)\n",
    "\n",
    "    # 공용 초기값 (원하면 실험별 동일 초기값)\n",
    "    x0 = np.random.rand(config['nump'], config['D'])\n",
    "    np.save(run_root / \"x0.npy\", x0)\n",
    "    np.save(run_root / \"alpha.npy\", a)\n",
    "\n",
    "    nsim    = int(config['sim'])\n",
    "    maxiter = int(config.get('maxiter', 1000))\n",
    "\n",
    "    # 진행률: 바깥 루프(시뮬레이션 개수)\n",
    "    for simnum in range(nsim):\n",
    "        # 개별 sim 폴더 생성 ...\n",
    "        sim_dir  = run_root / f\"sim{simnum:04d}\"\n",
    "        figs_dir = sim_dir / \"figs\"\n",
    "        figs_dir.mkdir(parents=True, exist_ok=True)\n",
    "    \n",
    "        model = Multi_CBO_model(L1, L2, config)\n",
    "        model.path = str(sim_dir.resolve()) + \"/\"\n",
    "        model.make_path()\n",
    "    \n",
    "        x = np.load(run_root / \"x0.npy\")\n",
    "        E = np.zeros(maxiter, dtype=float)\n",
    "        model.trace_func(x, lambda z: z, \"coord\")    \n",
    "        for it in range(maxiter):\n",
    "            diff = x - minimizer\n",
    "            E[it] = np.einsum(\"ij,ij->i\", diff, diff).mean()\n",
    "    \n",
    "            if config.get('model', 1) == 1:\n",
    "                x = model.step(x, a_col, L1, L2)\n",
    "            else:\n",
    "                raise NotImplementedError(\"model!=1 분기 사용 시 다른 모델 지정 필요\")\n",
    "    \n",
    "            model.trace_func(x, lambda z: z, \"coord\")\n",
    "            # --- 진행률 (print 버전) ---\n",
    "            if (it + 1) % 50 == 0 or it == maxiter - 1:\n",
    "                pct = (simnum * maxiter + it + 1) / (nsim * maxiter) * 100\n",
    "                print(f\"\\rProgress: {pct:.1f}%\", end=\"\")\n",
    "    \n",
    "        # 시뮬레이션 종료 후 개행\n",
    "        print(\" done.\")\n",
    "    \n",
    "        model.save_func(\"coord\", simnum=simnum)\n",
    "    \n",
    "        # eps = 1e-12\n",
    "        # plt.figure()\n",
    "        # plt.plot(np.arange(maxiter), E + eps, label='E_n')\n",
    "        # plt.yscale('log')\n",
    "        # plt.title(f'sim{simnum:04d}')\n",
    "        # plt.xlabel('iter')\n",
    "        # plt.ylabel('energy')\n",
    "        # plt.legend()\n",
    "        # plt.savefig(figs_dir / \"energy.png\", dpi=150, bbox_inches=\"tight\")\n",
    "        # plt.close()\n"
   ]
  },
  {
   "cell_type": "code",
   "execution_count": 6,
   "metadata": {},
   "outputs": [],
   "source": [
    "# plot.ipynb (셀 1)\n",
    "from pathlib import Path\n",
    "import numpy as np\n",
    "from src.plot import load_coord, find_first_coord, plot_particles_at_iters\n",
    "\n",
    "sim_dir = Path(\"results/250612Exp_2/sim0000\")   # <- 본인 경로로 변경\n",
    "coord_pkl = find_first_coord(sim_dir, pattern=\"coord_*.pkl\")\n",
    "coord = load_coord(coord_pkl)                   # (T,N,D)\n",
    "\n",
    "# 필요시 minimizer 불러오기 (run에서 저장했다면)\n",
    "minimizer_path = sim_dir.parent / \"minimizer.npy\"  # 예: 상위 simname 폴더에 저장해 두었다면\n",
    "minimizer = None\n",
    "if minimizer_path.exists():\n",
    "    minimizer = np.load(minimizer_path)\n",
    "\n",
    "iters = [0,1,2,3,4,5,6,7,8,9, 10,11,12,13,14,15,16,17,18,19, 20, 50, 100]\n",
    "plot_particles_at_iters(coord, iters, sim_dir / \"frames\", title_prefix=sim_dir.name,\n",
    "                        minimizer=minimizer, xlimylim=(0, 2, 0, 2))\n"
   ]
  },
  {
   "cell_type": "code",
   "execution_count": 4,
   "metadata": {},
   "outputs": [
    {
     "data": {
      "text/plain": [
       "[<matplotlib.lines.Line2D at 0x7ff667acf700>]"
      ]
     },
     "execution_count": 4,
     "metadata": {},
     "output_type": "execute_result"
    },
    {
     "data": {
      "image/png": "[encoded data removed]",
      "text/plain": [
       "<Figure size 640x480 with 1 Axes>"
      ]
     },
     "metadata": {},
     "output_type": "display_data"
    }
   ],
   "source": [
    "import matplotlib.pyplot as plt\n",
    "plt.plot(E)"
   ]
  },
  {
   "cell_type": "code",
   "execution_count": null,
   "metadata": {},
   "outputs": [],
   "source": []
  }
 ],
 "metadata": {
  "kernelspec": {
   "display_name": "Python [conda env:CBOenv]",
   "language": "python",
   "name": "conda-env-CBOenv-py"
  },
  "language_info": {
   "codemirror_mode": {
    "name": "ipython",
    "version": 3
   },
   "file_extension": ".py",
   "mimetype": "text/x-python",
   "name": "python",
   "nbconvert_exporter": "python",
   "pygments_lexer": "ipython3",
   "version": "3.9.21"
  }
 },
 "nbformat": 4,
 "nbformat_minor": 4
}
